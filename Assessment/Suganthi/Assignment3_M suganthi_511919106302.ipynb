{
  "nbformat": 4,
  "nbformat_minor": 0,
  "metadata": {
    "colab": {
      "provenance": []
    },
    "kernelspec": {
      "name": "python3",
      "display_name": "Python 3"
    },
    "language_info": {
      "name": "python"
    }
  },
  "cells": [
    {
      "cell_type": "markdown",
      "source": [
        "## **Assignment 3**\n",
        "\n",
        "**link of the original file** \n",
        "\n",
        "https://colab.research.google.com/drive/1phsqpgthOFpK1ONMt_JKedsSqXj_1Xku?usp=sharing\n",
        "\n",
        "\n",
        "\n",
        " Global sales and data analysis\n",
        "\n",
        " Md Shafiuddin Shariff\n",
        "\n",
        " Md uzaif\n",
        "\n",
        " Vinothkumar\n",
        "\n",
        " Suganthi"
      ],
      "metadata": {
        "id": "v3VE4ToPqQuv"
      }
    },
    {
      "cell_type": "markdown",
      "source": [
        "**Exercises**\n",
        "\n",
        "Answer the questions or complete the tasks outlined in bold below, use the specific method described if applicable."
      ],
      "metadata": {
        "id": "FeBSyUDDqZN7"
      }
    },
    {
      "cell_type": "markdown",
      "source": [
        "What is 7 to the power of 4?"
      ],
      "metadata": {
        "id": "_i2bO6xPqckE"
      }
    },
    {
      "cell_type": "code",
      "source": [
        "print(pow(7,4))"
      ],
      "metadata": {
        "colab": {
          "base_uri": "https://localhost:8080/"
        },
        "id": "8UThH8wDqeac",
        "outputId": "302df258-428a-4fef-d275-4141f0ca1ad7"
      },
      "execution_count": null,
      "outputs": [
        {
          "output_type": "stream",
          "name": "stdout",
          "text": [
            "2401\n"
          ]
        }
      ]
    },
    {
      "cell_type": "markdown",
      "source": [
        "Split this string:"
      ],
      "metadata": {
        "id": "5ORBqY3sqk8Z"
      }
    },
    {
      "cell_type": "code",
      "source": [
        "s = \"Hi there Sam!\""
      ],
      "metadata": {
        "id": "beDvtN2DqnCv"
      },
      "execution_count": null,
      "outputs": []
    },
    {
      "cell_type": "markdown",
      "source": [
        "into a list."
      ],
      "metadata": {
        "id": "_-IOrNB7qsbI"
      }
    },
    {
      "cell_type": "code",
      "source": [
        "s=\"Hi there Sam!\"\n",
        "list=s.split(\" \")\n",
        "print(list)"
      ],
      "metadata": {
        "colab": {
          "base_uri": "https://localhost:8080/"
        },
        "id": "XY0o--R9qtZ7",
        "outputId": "be3b975e-1070-43ac-dd70-2890b6716c64"
      },
      "execution_count": null,
      "outputs": [
        {
          "output_type": "stream",
          "name": "stdout",
          "text": [
            "['Hi', 'there', 'Sam!']\n"
          ]
        }
      ]
    },
    {
      "cell_type": "code",
      "source": [
        "s=\"Hi there dad!\"\n",
        "list=s.split(\" \")\n",
        "print(list)"
      ],
      "metadata": {
        "colab": {
          "base_uri": "https://localhost:8080/"
        },
        "id": "SfZtkRvdq3W_",
        "outputId": "0a65a8ab-2680-40dd-9d6b-b0b9aa1081e2"
      },
      "execution_count": null,
      "outputs": [
        {
          "output_type": "stream",
          "name": "stdout",
          "text": [
            "['Hi', 'there', 'dad!']\n"
          ]
        }
      ]
    },
    {
      "cell_type": "markdown",
      "source": [
        "Given the variables:"
      ],
      "metadata": {
        "id": "SQBhbg2zrAgb"
      }
    },
    {
      "cell_type": "code",
      "source": [
        "planet = \"Earth\"\n",
        "diameter = 12742\n"
      ],
      "metadata": {
        "id": "fcY_k0f4rCbK"
      },
      "execution_count": null,
      "outputs": []
    },
    {
      "cell_type": "markdown",
      "source": [
        "Use .format() to print the following string:\n",
        "\n",
        "The diameter of Earth is 12742 kilometers."
      ],
      "metadata": {
        "id": "YdnPxu1IrGr9"
      }
    },
    {
      "cell_type": "code",
      "source": [
        "planet=\"Earth\"\n",
        "diameter=12742\n",
        "print(\"The diameter of {} is {} kilometers\".format(planet,diameter))"
      ],
      "metadata": {
        "colab": {
          "base_uri": "https://localhost:8080/"
        },
        "id": "Prjj0wv5rKLG",
        "outputId": "54bd4130-cfb0-41d3-eeb7-d17c7f21aa86"
      },
      "execution_count": null,
      "outputs": [
        {
          "output_type": "stream",
          "name": "stdout",
          "text": [
            "The diameter of Earth is 12742 kilometers\n"
          ]
        }
      ]
    },
    {
      "cell_type": "code",
      "source": [
        "lst=[1,2,[3,4],[5,[100,200,['hello']],23,11],1,7]\n",
        "wrd=lst[3][1][2]\n",
        "print(wrd)"
      ],
      "metadata": {
        "colab": {
          "base_uri": "https://localhost:8080/"
        },
        "id": "YthmcR-FrTZe",
        "outputId": "23b3ffc5-6977-42b9-cead-0ed85eb85834"
      },
      "execution_count": null,
      "outputs": [
        {
          "output_type": "stream",
          "name": "stdout",
          "text": [
            "['hello']\n"
          ]
        }
      ]
    },
    {
      "cell_type": "markdown",
      "source": [
        "Given this nested list, use indexing to grab the word \"hello\""
      ],
      "metadata": {
        "id": "kc46FqZ-rdNM"
      }
    },
    {
      "cell_type": "code",
      "source": [
        "lst = [1,2,[3,4],[5,[100,200,['hello']],23,11],1,7]"
      ],
      "metadata": {
        "id": "_KIaGxqgreU6"
      },
      "execution_count": null,
      "outputs": []
    },
    {
      "cell_type": "markdown",
      "source": [
        "What is the main difference between a tuple and a list?"
      ],
      "metadata": {
        "id": "cP5EXXUnr_Qv"
      }
    },
    {
      "cell_type": "code",
      "source": [
        "#LIST:\n",
        "   #List is mutable\n",
        "   #List consumes more memory\n",
        "   #List are denoted by square brackets\n",
        "   #Example: list=['iqram',3]\n",
        "\n",
        "#TUPLE:\n",
        "   #Tuple is immutable\n",
        "   #Tuple consumes less memory\n",
        "   #Tuples are denoted by parenthesis\n",
        "   #Example: tuple=('iqram',3)"
      ],
      "metadata": {
        "id": "CzI5zOavsBqV"
      },
      "execution_count": null,
      "outputs": []
    },
    {
      "cell_type": "markdown",
      "source": [
        "\n",
        "\n",
        "Create a function that grabs the email website domain from a string in the form:\n",
        "\n",
        "user@domain.com\n",
        "\n",
        "So for example, passing \"user@domain.com\" would return: domain.com"
      ],
      "metadata": {
        "id": "AwKU7AhbsW-b"
      }
    },
    {
      "cell_type": "code",
      "source": [
        "def domain(email):\n",
        "  print(email.split('@'[-1]))\n",
        "domain(\"user@domain.com\")"
      ],
      "metadata": {
        "colab": {
          "base_uri": "https://localhost:8080/"
        },
        "id": "GFnl6o-jtHVk",
        "outputId": "bd385a31-5535-4d8e-c153-914a77a006df"
      },
      "execution_count": null,
      "outputs": [
        {
          "output_type": "stream",
          "name": "stdout",
          "text": [
            "['user', 'domain.com']\n"
          ]
        }
      ]
    },
    {
      "cell_type": "markdown",
      "source": [
        "**Basic funtion for true or false**\n",
        "\n",
        "Create a basic function that returns True if the word 'dog' is contained in the input string. Don't worry about edge cases like a punctuation being attached to the word dog, but do account for capitalization."
      ],
      "metadata": {
        "id": "k4AAe8vbtWb1"
      }
    },
    {
      "cell_type": "code",
      "source": [
        "def FindWord(string):\n",
        "  str=string.lower()\n",
        "  if \"dog\" in string:\n",
        "    print(\"True\")\n",
        "  else:\n",
        "    print(\"False\")\n",
        "\n",
        "FindWord('My dog is jimmy')\n",
        "FindWord('My name is iqram')"
      ],
      "metadata": {
        "colab": {
          "base_uri": "https://localhost:8080/"
        },
        "id": "u034OS0steWk",
        "outputId": "9f337786-86fe-44be-ebd4-d318a9b888e0"
      },
      "execution_count": null,
      "outputs": [
        {
          "output_type": "stream",
          "name": "stdout",
          "text": [
            "True\n",
            "False\n"
          ]
        }
      ]
    },
    {
      "cell_type": "markdown",
      "source": [
        "**String contains word dog**\n",
        "\n",
        "Create a function that counts the number of times the word \"dog\" occurs in a string. Again ignore edge cases."
      ],
      "metadata": {
        "id": "Tmfam7h0tg9l"
      }
    },
    {
      "cell_type": "code",
      "source": [
        "def countWord(str):\n",
        "  count=0\n",
        "  for word in str.lower().split():\n",
        "    if word=='dog':\n",
        "      count=count+1\n",
        "\n",
        "  print(count)\n",
        "countWord('This dog runs faster than the other dog')"
      ],
      "metadata": {
        "colab": {
          "base_uri": "https://localhost:8080/"
        },
        "id": "pi8kZxjbt8ax",
        "outputId": "a3c99b15-a6c6-4295-ac61-b1d64ff3eaa2"
      },
      "execution_count": null,
      "outputs": [
        {
          "output_type": "stream",
          "name": "stdout",
          "text": [
            "2\n"
          ]
        }
      ]
    },
    {
      "cell_type": "markdown",
      "source": [
        "**Problem**\n",
        "\n",
        "You are driving a little too fast, and a police officer stops you. Write a function to return one of 3 possible results: \"No ticket\", \"Small ticket\", or \"Big Ticket\". If your speed is 60 or less, the result is \"No Ticket\". If speed is between 61 and 80 inclusive, the result is \"Small Ticket\". If speed is 81 or more, the result is \"Big Ticket\". Unless it is your birthday (encoded as a boolean value in the parameters of the function) -- on your birthday, your speed can be 5 higher in all cases."
      ],
      "metadata": {
        "id": "o4t_74y-uAo1"
      }
    },
    {
      "cell_type": "code",
      "source": [
        "def caught_speeding(speed, is_birthday):\n",
        "    \n",
        "    if is_birthday:\n",
        "        speeding = speed - 5\n",
        "    else:\n",
        "        speeding = speed\n",
        "    \n",
        "    if speeding > 80:\n",
        "        return 'Big Ticket'\n",
        "    elif speeding > 60:\n",
        "        return 'Small Ticket'\n",
        "    else:\n",
        "        return 'No Ticket'"
      ],
      "metadata": {
        "id": "e5qhvzs_uKUX"
      },
      "execution_count": null,
      "outputs": []
    },
    {
      "cell_type": "code",
      "source": [
        "caught_speeding(81,True)"
      ],
      "metadata": {
        "colab": {
          "base_uri": "https://localhost:8080/",
          "height": 35
        },
        "id": "1_8z4jVXuTm0",
        "outputId": "26f4ea97-fc16-4328-ae42-c39d279bd768"
      },
      "execution_count": null,
      "outputs": [
        {
          "output_type": "execute_result",
          "data": {
            "text/plain": [
              "'Small Ticket'"
            ],
            "application/vnd.google.colaboratory.intrinsic+json": {
              "type": "string"
            }
          },
          "metadata": {},
          "execution_count": 22
        }
      ]
    },
    {
      "cell_type": "code",
      "source": [
        "caught_speeding(85,False)"
      ],
      "metadata": {
        "colab": {
          "base_uri": "https://localhost:8080/",
          "height": 35
        },
        "id": "hp_Q3ZywuaAV",
        "outputId": "3eb2d77f-02ec-4467-fe3d-203b6ddb137c"
      },
      "execution_count": null,
      "outputs": [
        {
          "output_type": "execute_result",
          "data": {
            "text/plain": [
              "'Big Ticket'"
            ],
            "application/vnd.google.colaboratory.intrinsic+json": {
              "type": "string"
            }
          },
          "metadata": {},
          "execution_count": 23
        }
      ]
    },
    {
      "cell_type": "markdown",
      "source": [
        "**Employee Salary list**\n",
        "\n",
        "Create an employee list with basic salary values(at least 5 values for 5 employees) and using a for loop retreive each employee salary and calculate total salary expenditure."
      ],
      "metadata": {
        "id": "qIe1SnEWueaK"
      }
    },
    {
      "cell_type": "code",
      "source": [
        "employee=[['iqarm',55000],['farhan',45000],['fawaz',3000],['hashaan',50000]]\n",
        "total_salary=0\n",
        "length=len(employee)\n",
        "for name,salary in employee:\n",
        "  total_salary+=salary\n",
        "average_salary=total_salary/length\n",
        "print(average_salary)\n",
        "salary_expenditure=average_salary * length\n",
        "print(salary_expenditure)   "
      ],
      "metadata": {
        "colab": {
          "base_uri": "https://localhost:8080/"
        },
        "id": "3dNAvZBtufjd",
        "outputId": "808d2b97-d515-47d5-ee54-ab34f3e0224c"
      },
      "execution_count": null,
      "outputs": [
        {
          "output_type": "stream",
          "name": "stdout",
          "text": [
            "38250.0\n",
            "153000.0\n"
          ]
        }
      ]
    },
    {
      "cell_type": "markdown",
      "source": [
        " **Create two dictionaries in Python:**\n",
        "\n",
        "First one to contain fields as Empid, Empname, Basicpay\n",
        "\n",
        "Second dictionary to contain fields as DeptName, DeptId.\n",
        "\n",
        "Combine both dictionaries."
      ],
      "metadata": {
        "id": "PmrhOLWQumj0"
      }
    },
    {
      "cell_type": "code",
      "source": [
        "def combineDictionary(dict1,dict2):\n",
        "  for i in dict2.keys():\n",
        "    dict1[i]=dict2[i]\n",
        "  return dict1\n",
        "dict1={'Empid':500,'Empname':'iqram','BasicPay':25000}\n",
        "dict2={'DeptName':'webapp Developer','Deptid':5}\n",
        "finaldict=combineDictionary(dict1,dict2)\n",
        "print(finaldict)"
      ],
      "metadata": {
        "colab": {
          "base_uri": "https://localhost:8080/"
        },
        "id": "0G_ymFW1usHE",
        "outputId": "5d3f0b39-691b-4d6e-a269-8b5745880e7e"
      },
      "execution_count": null,
      "outputs": [
        {
          "output_type": "stream",
          "name": "stdout",
          "text": [
            "{'Empid': 500, 'Empname': 'iqram', 'BasicPay': 25000, 'DeptName': 'webapp Developer', 'Deptid': 5}\n"
          ]
        }
      ]
    }
  ]
}
